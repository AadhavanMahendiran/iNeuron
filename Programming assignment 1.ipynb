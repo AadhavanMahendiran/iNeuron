{
 "cells": [
  {
   "cell_type": "code",
   "execution_count": 81,
   "id": "1bf0a407",
   "metadata": {},
   "outputs": [],
   "source": [
    "import os\n",
    "import logging"
   ]
  },
  {
   "cell_type": "code",
   "execution_count": 82,
   "id": "51a003ff",
   "metadata": {},
   "outputs": [],
   "source": [
    "logging.basicConfig(filename = \"logger1.log\", level = logging.INFO,\n",
    "                   format = \"%(asctime)s%(message)s\")"
   ]
  },
  {
   "cell_type": "code",
   "execution_count": 83,
   "id": "20a7be0d",
   "metadata": {},
   "outputs": [],
   "source": [
    "logging.info(\"check -Info message being logged\")\n",
    "logging.warning(\"check -Warning message is being logged\")\n",
    "logging.error(\"check -Error!\")"
   ]
  },
  {
   "cell_type": "markdown",
   "id": "066cafce",
   "metadata": {},
   "source": [
    "__1.\tWrite a Python program to print \"Hello Python\"?__"
   ]
  },
  {
   "cell_type": "code",
   "execution_count": 84,
   "id": "482cee28",
   "metadata": {},
   "outputs": [
    {
     "name": "stdout",
     "output_type": "stream",
     "text": [
      "Hello world\n"
     ]
    }
   ],
   "source": [
    "logging.info(\"printing the hello world\")\n",
    "print(\"Hello world\")"
   ]
  },
  {
   "cell_type": "markdown",
   "id": "d9f0cb5f",
   "metadata": {},
   "source": [
    "__2.\tWrite a Python program to do arithmetical operations addition and division.?__\n"
   ]
  },
  {
   "cell_type": "code",
   "execution_count": 85,
   "id": "1532dc86",
   "metadata": {},
   "outputs": [],
   "source": [
    "def add_n_div_operation(a,b):\n",
    "    logging.info(\"input the number {} and {}\".format(a,b))\n",
    "    try:\n",
    "        add = a+b\n",
    "        div = a/b\n",
    "        return add,div\n",
    "    except Excception as e:\n",
    "        print(\"Check log for exception\")\n",
    "        logging.error(\"Error occured\")\n",
    "        logging.exception(\"Exception occured :\" + (str(e)))\n",
    "    else:\n",
    "        print(\"The function passed succesfully\")"
   ]
  },
  {
   "cell_type": "code",
   "execution_count": 87,
   "id": "4cc16266",
   "metadata": {},
   "outputs": [
    {
     "name": "stdout",
     "output_type": "stream",
     "text": [
      "enter the numerical value a :4\n",
      "enter the numerical value b :5\n"
     ]
    },
    {
     "data": {
      "text/plain": [
       "(9, 0.8)"
      ]
     },
     "execution_count": 87,
     "metadata": {},
     "output_type": "execute_result"
    }
   ],
   "source": [
    "a = int(input(\"enter the numerical value a :\"))\n",
    "b = int(input(\"enter the numerical value b :\"))\n",
    "add_n_div_operation(a,b)"
   ]
  },
  {
   "cell_type": "markdown",
   "id": "3d681b8f",
   "metadata": {},
   "source": [
    "__3.\tWrite a Python program to find the area of a triangle?__\n"
   ]
  },
  {
   "cell_type": "code",
   "execution_count": 88,
   "id": "9146685e",
   "metadata": {},
   "outputs": [],
   "source": [
    "class triangle:\n",
    "    \n",
    "    def __init__(self,a,b,c):\n",
    "        self.a = a\n",
    "        self.b = b\n",
    "        self.c = c\n",
    "        \n",
    "    def area(self):\n",
    "        try:\n",
    "            s = (self.a + self.b + self.c)/2\n",
    "            area = ((s*(s-self.a)*(s-self.b)*(s-self.c))) ** 0.5\n",
    "            return area\n",
    "        except Exception as e:\n",
    "            print(\"There is issue in my code :\", e)\n",
    "        else:\n",
    "            print(\"The logic is working correctly\")\n",
    "    \n",
    "    def __str__(self):\n",
    "        return(\"This class to define the area of triangle\")\n",
    "    logging.info(\"class triangle is ready now\")\n",
    "    "
   ]
  },
  {
   "cell_type": "code",
   "execution_count": 89,
   "id": "bd5d67b9",
   "metadata": {},
   "outputs": [
    {
     "name": "stdout",
     "output_type": "stream",
     "text": [
      "9.797958971132712\n",
      "This class to define the area of triangle\n"
     ]
    }
   ],
   "source": [
    "logging.info(\"Area of triangle function is getting applied\")\n",
    "A = triangle(4,5,7)\n",
    "print(A.area())\n",
    "print(A)"
   ]
  },
  {
   "cell_type": "markdown",
   "id": "dd55ae76",
   "metadata": {},
   "source": [
    "__4.\tWrite a Python program to swap two variables?__\n"
   ]
  },
  {
   "cell_type": "code",
   "execution_count": 90,
   "id": "0b0aa59c",
   "metadata": {},
   "outputs": [
    {
     "name": "stdout",
     "output_type": "stream",
     "text": [
      "This function is working fine\n"
     ]
    }
   ],
   "source": [
    "logging.info(\" creating new class swap_variable\")\n",
    "class swap_variables:\n",
    "    def __init__(self,x,y):\n",
    "        self.x = x\n",
    "        self.y = y\n",
    "    try:\n",
    "        def swap(self):\n",
    "            print(f\" initially the value of x is {self.x} and the value of y is {self.y}\")\n",
    "            #a = self.x,self.y\n",
    "            #b = self.y,self.x\n",
    "            #a = b\n",
    "            \n",
    "            self.x,self.y = self.y,self.x\n",
    "            \n",
    "            \n",
    "            print(f\" After swapping - The value of x is {self.x} and the value of y is {self.y}\")\n",
    "    \n",
    "    except Exception as e:\n",
    "        print(\"There is issue in my code:\",e)\n",
    "        logging.error(\"check - Error!\")\n",
    "    \n",
    "    else:\n",
    "        print(\"This function is working fine\")\n",
    "        \n",
    "    \n",
    "    def __str__(self):\n",
    "        \n",
    "        return (\"This is swap variable function\")\n",
    "    logging.info(\"The function is ready now\")\n"
   ]
  },
  {
   "cell_type": "code",
   "execution_count": 91,
   "id": "a8ae7728",
   "metadata": {},
   "outputs": [
    {
     "name": "stdout",
     "output_type": "stream",
     "text": [
      " initially the value of x is Aadhavan and the value of y is Mahendiran\n",
      " After swapping - The value of x is Mahendiran and the value of y is Aadhavan\n"
     ]
    }
   ],
   "source": [
    "var = swap_variables(\"Aadhavan\", \"Mahendiran\")\n",
    "var.swap()"
   ]
  },
  {
   "cell_type": "markdown",
   "id": "e7920872",
   "metadata": {},
   "source": [
    "__5.\tWrite a Python program to generate a random number?__"
   ]
  },
  {
   "cell_type": "code",
   "execution_count": 92,
   "id": "59366d99",
   "metadata": {},
   "outputs": [],
   "source": [
    "import numpy as np\n",
    "logging.info(\"creating new class random_numbers\")\n",
    "class random_numbers:\n",
    "    def __init__(self,a):\n",
    "        self.a = a\n",
    "        \n",
    "    try:\n",
    "        def generate_random_num(self):\n",
    "            random_num = np.random.rand(self.a)\n",
    "            return (f\"The random number is {random_num}\")\n",
    "    \n",
    "    except Exception as e:\n",
    "        print(\"There is issue in this code the error is :\", e)\n",
    "        logging.error(\"check the error !\")\n",
    "    \n",
    "    \n",
    "    def __str__(self):\n",
    "        \n",
    "        return(\"This function used to generate random numbers\")\n",
    "    \n",
    "    logging.info(\"The random number function is created\")\n",
    "        "
   ]
  },
  {
   "cell_type": "code",
   "execution_count": 93,
   "id": "5410d489",
   "metadata": {},
   "outputs": [
    {
     "data": {
      "text/plain": [
       "'The random number is [0.47023741 0.18263123 0.94288242]'"
      ]
     },
     "execution_count": 93,
     "metadata": {},
     "output_type": "execute_result"
    }
   ],
   "source": [
    "num = random_numbers(3)\n",
    "num.generate_random_num()"
   ]
  },
  {
   "cell_type": "code",
   "execution_count": null,
   "id": "55c25b5a",
   "metadata": {},
   "outputs": [],
   "source": []
  }
 ],
 "metadata": {
  "kernelspec": {
   "display_name": "Python 3 (ipykernel)",
   "language": "python",
   "name": "python3"
  },
  "language_info": {
   "codemirror_mode": {
    "name": "ipython",
    "version": 3
   },
   "file_extension": ".py",
   "mimetype": "text/x-python",
   "name": "python",
   "nbconvert_exporter": "python",
   "pygments_lexer": "ipython3",
   "version": "3.9.7"
  }
 },
 "nbformat": 4,
 "nbformat_minor": 5
}
